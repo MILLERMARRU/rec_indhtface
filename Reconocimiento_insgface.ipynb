{
  "nbformat": 4,
  "nbformat_minor": 0,
  "metadata": {
    "colab": {
      "provenance": [],
      "authorship_tag": "ABX9TyNgP5hJYRla6vdl6Ko84vft",
      "include_colab_link": true
    },
    "kernelspec": {
      "name": "python3",
      "display_name": "Python 3"
    },
    "language_info": {
      "name": "python"
    }
  },
  "cells": [
    {
      "cell_type": "markdown",
      "metadata": {
        "id": "view-in-github",
        "colab_type": "text"
      },
      "source": [
        "<a href=\"https://colab.research.google.com/github/MILLERMARRU/rec_indhtface/blob/main/Reconocimiento_insgface.ipynb\" target=\"_parent\"><img src=\"https://colab.research.google.com/assets/colab-badge.svg\" alt=\"Open In Colab\"/></a>"
      ]
    },
    {
      "cell_type": "code",
      "execution_count": 1,
      "metadata": {
        "colab": {
          "base_uri": "https://localhost:8080/"
        },
        "id": "pxYB8TwOsHzw",
        "outputId": "56a43e06-80f2-41c1-f1bd-1ec86122e409"
      },
      "outputs": [
        {
          "output_type": "stream",
          "name": "stdout",
          "text": [
            "\u001b[2K     \u001b[90m━━━━━━━━━━━━━━━━━━━━━━━━━━━━━━━━━━━━━━━\u001b[0m \u001b[32m44.3/44.3 kB\u001b[0m \u001b[31m382.6 kB/s\u001b[0m eta \u001b[36m0:00:00\u001b[0m\n",
            "\u001b[2K   \u001b[90m━━━━━━━━━━━━━━━━━━━━━━━━━━━━━━━━━━━━━━━━\u001b[0m \u001b[32m9.9/9.9 MB\u001b[0m \u001b[31m13.6 MB/s\u001b[0m eta \u001b[36m0:00:00\u001b[0m\n",
            "\u001b[2K   \u001b[90m━━━━━━━━━━━━━━━━━━━━━━━━━━━━━━━━━━━━━━━━\u001b[0m \u001b[32m16.5/16.5 MB\u001b[0m \u001b[31m23.1 MB/s\u001b[0m eta \u001b[36m0:00:00\u001b[0m\n",
            "\u001b[2K   \u001b[90m━━━━━━━━━━━━━━━━━━━━━━━━━━━━━━━━━━━━━━━━\u001b[0m \u001b[32m6.9/6.9 MB\u001b[0m \u001b[31m28.5 MB/s\u001b[0m eta \u001b[36m0:00:00\u001b[0m\n",
            "\u001b[2K   \u001b[90m━━━━━━━━━━━━━━━━━━━━━━━━━━━━━━━━━━━━━━━━\u001b[0m \u001b[32m79.1/79.1 kB\u001b[0m \u001b[31m5.0 MB/s\u001b[0m eta \u001b[36m0:00:00\u001b[0m\n",
            "\u001b[?25h"
          ]
        }
      ],
      "source": [
        "!pip install -q streamlit insightface onnxruntime opencv-python-headless pyngrok\n"
      ]
    },
    {
      "cell_type": "code",
      "source": [
        "!ngrok config add-authtoken 2rPOA88C1NvlhE7pXulxY6VlUMA_4LMGUuiywutna8pigaZ4A"
      ],
      "metadata": {
        "colab": {
          "base_uri": "https://localhost:8080/"
        },
        "id": "kp4HKo_dCrOA",
        "outputId": "36fc3a4d-7364-4321-fa83-08b4bb089d41"
      },
      "execution_count": 2,
      "outputs": [
        {
          "output_type": "stream",
          "name": "stdout",
          "text": [
            "Authtoken saved to configuration file: /root/.config/ngrok/ngrok.yml\n"
          ]
        }
      ]
    },
    {
      "cell_type": "code",
      "source": [
        "%%writefile app.py\n",
        "import streamlit as st\n",
        "import cv2\n",
        "import numpy as np\n",
        "from PIL import Image\n",
        "from insightface.app import FaceAnalysis\n",
        "\n",
        "# Cargar modelo (una sola vez)\n",
        "@st.cache_resource\n",
        "def load_model():\n",
        "    app = FaceAnalysis(name='buffalo_l', providers=['CPUExecutionProvider'])\n",
        "    app.prepare(ctx_id=0)\n",
        "    return app\n",
        "\n",
        "app = load_model()\n",
        "\n",
        "st.set_page_config(layout=\"wide\")\n",
        "st.title(\"🧠 Detector Facial con InsightFace\")\n",
        "\n",
        "col1, col2 = st.columns(2)\n",
        "\n",
        "with col1:\n",
        "    st.markdown(\"### 📸 Toma una foto o carga una imagen\")\n",
        "\n",
        "    camera_image = st.camera_input(\"Tomar foto\")\n",
        "    uploaded_file = st.file_uploader(\"Subir imagen\", type=[\"jpg\", \"jpeg\", \"png\"])\n",
        "\n",
        "with col2:\n",
        "    if camera_image or uploaded_file:\n",
        "        with st.spinner(\"🔍 Detectando rostros...\"):\n",
        "            if camera_image:\n",
        "                image = Image.open(camera_image).convert(\"RGB\")\n",
        "            else:\n",
        "                image = Image.open(uploaded_file).convert(\"RGB\")\n",
        "\n",
        "            img_np = np.array(image)\n",
        "            img_bgr = cv2.cvtColor(img_np, cv2.COLOR_RGB2BGR)\n",
        "\n",
        "            faces = app.get(img_bgr)\n",
        "\n",
        "            for face in faces:\n",
        "                x1, y1, x2, y2 = map(int, face.bbox)\n",
        "                cv2.rectangle(img_np, (x1, y1), (x2, y2), (0, 255, 0), 2)\n",
        "\n",
        "        st.success(f\"✅ Rostros detectados: {len(faces)}\")\n",
        "        st.image(img_np, caption=\"Resultado\", channels=\"RGB\", use_container_width=True)\n",
        "    else:\n",
        "        st.info(\"📷 Toma una foto o carga una imagen para comenzar\")\n",
        "\n"
      ],
      "metadata": {
        "colab": {
          "base_uri": "https://localhost:8080/"
        },
        "id": "7zEVhDefC6_b",
        "outputId": "0538a026-f2ba-4a6d-daf7-f0005cd14dac"
      },
      "execution_count": 15,
      "outputs": [
        {
          "output_type": "stream",
          "name": "stdout",
          "text": [
            "Overwriting app.py\n"
          ]
        }
      ]
    },
    {
      "cell_type": "code",
      "source": [
        "from pyngrok import ngrok\n",
        "import os\n",
        "\n",
        "# Cerrar cualquier túnel anterior\n",
        "ngrok.kill()\n",
        "\n",
        "# Iniciar Streamlit\n",
        "port = 8501\n",
        "public_url = ngrok.connect(port)\n",
        "print(\"🌐 URL pública:\", public_url)\n",
        "\n",
        "# Ejecutar la app (modo background)\n",
        "!streamlit run app.py &> /dev/null &\n"
      ],
      "metadata": {
        "colab": {
          "base_uri": "https://localhost:8080/"
        },
        "id": "3jKQcMUODDG_",
        "outputId": "4b39ed0e-427a-489b-d347-5c5afa667382"
      },
      "execution_count": 16,
      "outputs": [
        {
          "output_type": "stream",
          "name": "stdout",
          "text": [
            "🌐 URL pública: NgrokTunnel: \"https://86eec49e9c60.ngrok-free.app\" -> \"http://localhost:8501\"\n"
          ]
        }
      ]
    }
  ]
}